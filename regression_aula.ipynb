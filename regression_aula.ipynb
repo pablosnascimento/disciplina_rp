{
 "cells": [
  {
   "cell_type": "markdown",
   "metadata": {},
   "source": [
    "# Regressão\n",
    "\n",
    "1. Carregue uma base de dados de regressão que NÃO esteja nos toy datasets do scikit-learn;\n",
    "\n",
    "Escolhi um dataset sobre um conjunto de dados com registros de 7 espécies diferentes de peixes comuns nas vendas do mercado de peixes. Com este conjunto de dados, um modelo preditivo pode ser executado para oferecer uma estimativa do peso dos peixes. disponível no Kaggle: https://www.kaggle.com/aungpyaeap/fish-market"
   ]
  },
  {
   "cell_type": "code",
   "execution_count": 1,
   "metadata": {},
   "outputs": [
    {
     "data": {
      "text/html": [
       "<div>\n",
       "<style scoped>\n",
       "    .dataframe tbody tr th:only-of-type {\n",
       "        vertical-align: middle;\n",
       "    }\n",
       "\n",
       "    .dataframe tbody tr th {\n",
       "        vertical-align: top;\n",
       "    }\n",
       "\n",
       "    .dataframe thead th {\n",
       "        text-align: right;\n",
       "    }\n",
       "</style>\n",
       "<table border=\"1\" class=\"dataframe\">\n",
       "  <thead>\n",
       "    <tr style=\"text-align: right;\">\n",
       "      <th></th>\n",
       "      <th>Species</th>\n",
       "      <th>Weight</th>\n",
       "      <th>Length1</th>\n",
       "      <th>Length2</th>\n",
       "      <th>Length3</th>\n",
       "      <th>Height</th>\n",
       "      <th>Width</th>\n",
       "    </tr>\n",
       "  </thead>\n",
       "  <tbody>\n",
       "    <tr>\n",
       "      <th>0</th>\n",
       "      <td>Bream</td>\n",
       "      <td>242.0</td>\n",
       "      <td>23.2</td>\n",
       "      <td>25.4</td>\n",
       "      <td>30.0</td>\n",
       "      <td>11.5200</td>\n",
       "      <td>4.0200</td>\n",
       "    </tr>\n",
       "    <tr>\n",
       "      <th>1</th>\n",
       "      <td>Bream</td>\n",
       "      <td>290.0</td>\n",
       "      <td>24.0</td>\n",
       "      <td>26.3</td>\n",
       "      <td>31.2</td>\n",
       "      <td>12.4800</td>\n",
       "      <td>4.3056</td>\n",
       "    </tr>\n",
       "    <tr>\n",
       "      <th>2</th>\n",
       "      <td>Bream</td>\n",
       "      <td>340.0</td>\n",
       "      <td>23.9</td>\n",
       "      <td>26.5</td>\n",
       "      <td>31.1</td>\n",
       "      <td>12.3778</td>\n",
       "      <td>4.6961</td>\n",
       "    </tr>\n",
       "    <tr>\n",
       "      <th>3</th>\n",
       "      <td>Bream</td>\n",
       "      <td>363.0</td>\n",
       "      <td>26.3</td>\n",
       "      <td>29.0</td>\n",
       "      <td>33.5</td>\n",
       "      <td>12.7300</td>\n",
       "      <td>4.4555</td>\n",
       "    </tr>\n",
       "    <tr>\n",
       "      <th>4</th>\n",
       "      <td>Bream</td>\n",
       "      <td>430.0</td>\n",
       "      <td>26.5</td>\n",
       "      <td>29.0</td>\n",
       "      <td>34.0</td>\n",
       "      <td>12.4440</td>\n",
       "      <td>5.1340</td>\n",
       "    </tr>\n",
       "  </tbody>\n",
       "</table>\n",
       "</div>"
      ],
      "text/plain": [
       "  Species  Weight  Length1  Length2  Length3   Height   Width\n",
       "0   Bream   242.0     23.2     25.4     30.0  11.5200  4.0200\n",
       "1   Bream   290.0     24.0     26.3     31.2  12.4800  4.3056\n",
       "2   Bream   340.0     23.9     26.5     31.1  12.3778  4.6961\n",
       "3   Bream   363.0     26.3     29.0     33.5  12.7300  4.4555\n",
       "4   Bream   430.0     26.5     29.0     34.0  12.4440  5.1340"
      ]
     },
     "execution_count": 1,
     "metadata": {},
     "output_type": "execute_result"
    }
   ],
   "source": [
    "import pandas as pd\n",
    "from sklearn.linear_model import LinearRegression\n",
    "from sklearn.metrics import mean_squared_error\n",
    "import matplotlib.pyplot as plt\n",
    "import numpy as np\n",
    "\n",
    "fishes = pd.read_csv(\"G:/Meu Drive/Mestrado/Disciplinas/RP/disciplina_rp/regression_datasets/Fish.csv\")\n",
    "\n",
    "fishes.head()"
   ]
  },
  {
   "cell_type": "code",
   "execution_count": 2,
   "metadata": {},
   "outputs": [
    {
     "data": {
      "text/plain": [
       "(159, 159)"
      ]
     },
     "execution_count": 2,
     "metadata": {},
     "output_type": "execute_result"
    }
   ],
   "source": [
    "#alterando nomes das especies por numeros\n",
    "ip_species = fishes.Species.unique()\n",
    "ip_dict = dict(zip(ip_species, range(len(ip_species))))\n",
    "\n",
    "fishes = fishes.replace(ip_dict)\n",
    "#fishes.head()\n",
    "\n",
    "#preparando vetor de caracteristicas\n",
    "X = fishes.iloc[:, :-1]\n",
    "\n",
    "#apenas coluna \"Width\"\n",
    "y = fishes.iloc[:,-1]\n",
    "y = np.array(y)\n",
    "\n",
    "len(X), len(y)"
   ]
  },
  {
   "cell_type": "markdown",
   "metadata": {},
   "source": [
    "2. Treine um modelo da classe LinearRegression do scikit-learn com toda a base;"
   ]
  },
  {
   "cell_type": "code",
   "execution_count": 3,
   "metadata": {},
   "outputs": [],
   "source": [
    "modelo = LinearRegression()\n",
    "modelo.fit(X, y)\n",
    "ypred = modelo.predict(X)"
   ]
  },
  {
   "cell_type": "code",
   "execution_count": 4,
   "metadata": {},
   "outputs": [
    {
     "name": "stdout",
     "output_type": "stream",
     "text": [
      "0.18899724794659292\n"
     ]
    }
   ],
   "source": [
    "erro = mean_squared_error(y, ypred)\n",
    "print(erro)\n",
    "#print(modelo.intercept_, modelo.coef_)"
   ]
  },
  {
   "cell_type": "code",
   "execution_count": 5,
   "metadata": {},
   "outputs": [],
   "source": [
    "#definiu a função linear\n",
    "def modelo_linear(X, a, b):\n",
    "    y = a*X + b\n",
    "    return y\n",
    "\n",
    "#teste no exemplo do video:\n",
    "#yPred = modelo_linear(X12, -1, 40) #-1 e 40 porque o grafico plotado com os dados do load_boston possuem esses pontos em y como extremidades\n",
    "#plotou\n",
    "#plt.scatter(X12, yPred, 'r')\n",
    "#plt.show()\n",
    "\n",
    "#função que calcula o erro médio simples para uma função linear\n",
    "def mae(y, ypred):\n",
    "    yDiff = ypred - y.reshape(-1,1)\n",
    "    yAbs = abs(yDiff)\n",
    "    errorSum = sum(yAbs)\n",
    "    mae = errorSum/len(yAbs)\n",
    "    return mae\n",
    "\n",
    "#função que calcula o erro médio quadratico para uma função linear\n",
    "def mse(y, ypred):\n",
    "    yDiff = ypred - y.reshape(-1,1)\n",
    "    yDiffSquare = yDiff**2\n",
    "    errorSum = sum(yDiffSquare)\n",
    "    mse = errorSum/len(yDiffSquare)\n",
    "    return mse\n",
    "\n",
    "#yPred = modelo_linear(X12, -1, 40)\n",
    "#calculando o erro\n",
    "#mae(y, yPred)\n",
    "#mse(y, yPred)"
   ]
  },
  {
   "cell_type": "code",
   "execution_count": 6,
   "metadata": {},
   "outputs": [],
   "source": [
    "#definição de uma classe para regrassão linear\n",
    "class regressao_linear():\n",
    "    def __init__(self):\n",
    "        #self.a = 0\n",
    "        #self.b = 0\n",
    "        #substituiu o pesos 'a' e 'b' por uma matriz w de duas linhas e uma coluna composta por zeros.\n",
    "        self.w = np.zeros((2,1))\n",
    "    \n",
    "    '''Função que adiciona ao vetor de carcteristicas mais uma coluna que será o y-predito. \n",
    "    O bias possui o mesmo numero de linhas da base de dados X.shape[0] e 1 coluna.\n",
    "    Por fim, concatena o vetor de caracteristicas X ao bias e retorna'''\n",
    "    @staticmethod\n",
    "    def addBias(X):\n",
    "        bias = np.ones((X.shape[0], 1))\n",
    "        X_b = np.concatenate((bias, X), axis=1)\n",
    "        return X_b\n",
    "\n",
    "    def fit(self, X, y):\n",
    "        #lembrando: valor obtido após teste e verificação do grafico da base para identificar os pontos basicos dos limites\n",
    "        #self.a = -1 \n",
    "        #self.b = 40\n",
    "        #após ajustes utilizando os valores da base de dados e a função addBias, temos o seguinte:\n",
    "        X_b = self.addBias(X)\n",
    "        for _ in range(500):\n",
    "            ypred = self.predict(X)\n",
    "            erro = ypred - y.reshape(-1,1)\n",
    "\n",
    "            #apos criação do Bias e vetorização dos pesos 'a' e 'b', o calculo é feito todo de uma vez\n",
    "            ajuste = X_b.T.dot(erro)/sum(X_b).reshape(-1, 1)\n",
    "            self.w = self.w - 0.1*ajuste\n",
    "\n",
    "    def predict(self, X):\n",
    "        X_b = self.addBias(X)\n",
    "        #y = self.w[1]*X[1] + self.w[0]*X[0] #w[0] é o b, w[1] é o a\n",
    "        #a multiplicação acima foi substituida por uma multiplicação linear entre matrizes que é a seguinte:\n",
    "        y = X_b.dot(self.w)\n",
    "        return y"
   ]
  },
  {
   "cell_type": "code",
   "execution_count": 7,
   "metadata": {},
   "outputs": [
    {
     "data": {
      "text/plain": [
       "\"\\nmodelo = regressao_linear()\\nypred = modelo.predict(X)\\nprint(mean_squared_error(y, ypred))\\nplt.plot(X, ypred, 'r')\\nplt.show()\\n\\n#queremos um modelo que possa ser treinado, chamremos fit a função e que depois possa ser testado\\n#voltando a definição, criar o fit\\n#testando a chamada agora treinando o modelo de forma melhor\\nmodelo.fit(X_len, y)\\nypred = modelo.predict(X_len)\\nprint(mean_squared_error(y, ypred))\\nplt.plot(X_len, ypred, 'g')\\nplt.show()\\n\\n#neste segudo caso a linha verde se aproxima melhor dos dados, pois foi considerado um par de valores melhor que 0 e 0 (-1 e 40)\\n\\n#modelo.w #apenas imprimiu os pesos encontrados\\n\""
      ]
     },
     "execution_count": 7,
     "metadata": {},
     "output_type": "execute_result"
    }
   ],
   "source": [
    "#testando a chamada do exemplo do video\n",
    "#X_len = X.iloc[:, 2] #apenas a caracteristica 2\n",
    "#plt.scatter(X_len, y)\n",
    "'''\n",
    "modelo = regressao_linear()\n",
    "ypred = modelo.predict(X)\n",
    "print(mean_squared_error(y, ypred))\n",
    "plt.plot(X, ypred, 'r')\n",
    "plt.show()\n",
    "\n",
    "#queremos um modelo que possa ser treinado, chamremos fit a função e que depois possa ser testado\n",
    "#voltando a definição, criar o fit\n",
    "#testando a chamada agora treinando o modelo de forma melhor\n",
    "modelo.fit(X_len, y)\n",
    "ypred = modelo.predict(X_len)\n",
    "print(mean_squared_error(y, ypred))\n",
    "plt.plot(X_len, ypred, 'g')\n",
    "plt.show()\n",
    "\n",
    "#neste segudo caso a linha verde se aproxima melhor dos dados, pois foi considerado um par de valores melhor que 0 e 0 (-1 e 40)\n",
    "\n",
    "#modelo.w #apenas imprimiu os pesos encontrados\n",
    "'''"
   ]
  },
  {
   "cell_type": "code",
   "execution_count": 8,
   "metadata": {},
   "outputs": [],
   "source": [
    "#criar funcao de impressao do grafico 2D\n",
    "\n",
    "def z_function(W0, W1):\n",
    "    modelo = regressao_linear() #exemplo da aula\n",
    "    Erro = np.empty(W0.shape)\n",
    "\n",
    "    for j in range(Erro.shape[0]):\n",
    "        for k in range(Erro.shape[1]):\n",
    "            modelo.w[0] = W0[j][k]\n",
    "            modelo.w[1] = W1[j][k]\n",
    "            ypred = modelo.predict(X) #X12 no video, variavel global\n",
    "            mse = mean_squared_error(y, ypred)\n",
    "            Erro[j][k] = mse\n",
    "    \n",
    "    return Erro"
   ]
  },
  {
   "cell_type": "code",
   "execution_count": 9,
   "metadata": {},
   "outputs": [
    {
     "name": "stdout",
     "output_type": "stream",
     "text": [
      "[-0.21988281  0.00081744  0.12078968  0.71085932 -0.72675516  0.26025325] 1.714965260907034\n"
     ]
    }
   ],
   "source": [
    "modelo = LinearRegression()\n",
    "modelo.fit(np.array(X), y)\n",
    "\n",
    "print(modelo.coef_, modelo.intercept_)"
   ]
  },
  {
   "cell_type": "code",
   "execution_count": 22,
   "metadata": {},
   "outputs": [],
   "source": [
    "#criar funcao de impressao do grafico 2D\n",
    "\n",
    "def z_function_2(W0):\n",
    "    modelo = LinearRegression()\n",
    "    modelo.fit(np.array(X), y)\n",
    "\n",
    "    Erro = np.empty(W0.shape)\n",
    "    delta = np.linspace(-20, 20, Erro.shape[1]) \n",
    "    \n",
    "    for j in range(Erro.shape[0]):\n",
    "        for k in range(Erro.shape[1]):\n",
    "\n",
    "            modelo.intercept_ = delta[k]\n",
    "            ypred = modelo.predict(np.array(X)) #X12 no video, variavel global\n",
    "            mse = mean_squared_error(y, ypred)\n",
    "            Erro[j][k] = mse\n",
    "    \n",
    "    return Erro"
   ]
  },
  {
   "cell_type": "code",
   "execution_count": 23,
   "metadata": {},
   "outputs": [
    {
     "data": {
      "image/png": "[encoded data removed]",
      "text/plain": [
       "<Figure size 432x288 with 1 Axes>"
      ]
     },
     "metadata": {
      "needs_background": "light"
     },
     "output_type": "display_data"
    }
   ],
   "source": [
    "from mpl_toolkits import mplot3d\n",
    "import matplotlib.pylab as plt\n",
    "\n",
    "w0 = np.linspace(17, 21, 30) #definir intervalo razoavel para 0.1888 que é o erro medio retornado\n",
    "w1 = np.linspace(-1, 1, 30) #no video ele definiu uma carcteristica especifica, e agora como definir o intervalo para todas?\n",
    "\n",
    "ax = plt.axes()\n",
    "W0, W1 = np.meshgrid(w0, w1)\n",
    "Erro = z_function_2(W0)\n",
    "\n",
    "plt.ylabel(\"Erro\")\n",
    "plt.xlabel(\"W0\")\n",
    "i=8\n",
    "plt.plot(W0[i,:], Erro[i,:])\n",
    "plt.show()\n"
   ]
  }
 ],
 "metadata": {
  "interpreter": {
   "hash": "b3ba2566441a7c06988d0923437866b63cedc61552a5af99d1f4fb67d367b25f"
  },
  "kernelspec": {
   "display_name": "Python 3.7.1 64-bit",
   "name": "python3"
  },
  "language_info": {
   "codemirror_mode": {
    "name": "ipython",
    "version": 3
   },
   "file_extension": ".py",
   "mimetype": "text/x-python",
   "name": "python",
   "nbconvert_exporter": "python",
   "pygments_lexer": "ipython3",
   "version": "3.7.1"
  },
  "orig_nbformat": 4
 },
 "nbformat": 4,
 "nbformat_minor": 2
}
