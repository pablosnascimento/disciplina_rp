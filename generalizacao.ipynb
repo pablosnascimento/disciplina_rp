{
 "cells": [
  {
   "cell_type": "code",
   "execution_count": 12,
   "metadata": {},
   "outputs": [
    {
     "data": {
      "text/html": [
       "<div>\n",
       "<style scoped>\n",
       "    .dataframe tbody tr th:only-of-type {\n",
       "        vertical-align: middle;\n",
       "    }\n",
       "\n",
       "    .dataframe tbody tr th {\n",
       "        vertical-align: top;\n",
       "    }\n",
       "\n",
       "    .dataframe thead th {\n",
       "        text-align: right;\n",
       "    }\n",
       "</style>\n",
       "<table border=\"1\" class=\"dataframe\">\n",
       "  <thead>\n",
       "    <tr style=\"text-align: right;\">\n",
       "      <th></th>\n",
       "      <th>Passengerid</th>\n",
       "      <th>Age</th>\n",
       "      <th>Fare</th>\n",
       "      <th>Sex</th>\n",
       "      <th>sibsp</th>\n",
       "      <th>zero</th>\n",
       "      <th>zero.1</th>\n",
       "      <th>zero.2</th>\n",
       "      <th>zero.3</th>\n",
       "      <th>zero.4</th>\n",
       "      <th>...</th>\n",
       "      <th>zero.12</th>\n",
       "      <th>zero.13</th>\n",
       "      <th>zero.14</th>\n",
       "      <th>Pclass</th>\n",
       "      <th>zero.15</th>\n",
       "      <th>zero.16</th>\n",
       "      <th>Embarked</th>\n",
       "      <th>zero.17</th>\n",
       "      <th>zero.18</th>\n",
       "      <th>Survived</th>\n",
       "    </tr>\n",
       "  </thead>\n",
       "  <tbody>\n",
       "    <tr>\n",
       "      <th>0</th>\n",
       "      <td>1</td>\n",
       "      <td>22.0</td>\n",
       "      <td>7.2500</td>\n",
       "      <td>0</td>\n",
       "      <td>1</td>\n",
       "      <td>0</td>\n",
       "      <td>0</td>\n",
       "      <td>0</td>\n",
       "      <td>0</td>\n",
       "      <td>0</td>\n",
       "      <td>...</td>\n",
       "      <td>0</td>\n",
       "      <td>0</td>\n",
       "      <td>0</td>\n",
       "      <td>3</td>\n",
       "      <td>0</td>\n",
       "      <td>0</td>\n",
       "      <td>2.0</td>\n",
       "      <td>0</td>\n",
       "      <td>0</td>\n",
       "      <td>0</td>\n",
       "    </tr>\n",
       "    <tr>\n",
       "      <th>1</th>\n",
       "      <td>2</td>\n",
       "      <td>38.0</td>\n",
       "      <td>71.2833</td>\n",
       "      <td>1</td>\n",
       "      <td>1</td>\n",
       "      <td>0</td>\n",
       "      <td>0</td>\n",
       "      <td>0</td>\n",
       "      <td>0</td>\n",
       "      <td>0</td>\n",
       "      <td>...</td>\n",
       "      <td>0</td>\n",
       "      <td>0</td>\n",
       "      <td>0</td>\n",
       "      <td>1</td>\n",
       "      <td>0</td>\n",
       "      <td>0</td>\n",
       "      <td>0.0</td>\n",
       "      <td>0</td>\n",
       "      <td>0</td>\n",
       "      <td>1</td>\n",
       "    </tr>\n",
       "    <tr>\n",
       "      <th>2</th>\n",
       "      <td>3</td>\n",
       "      <td>26.0</td>\n",
       "      <td>7.9250</td>\n",
       "      <td>1</td>\n",
       "      <td>0</td>\n",
       "      <td>0</td>\n",
       "      <td>0</td>\n",
       "      <td>0</td>\n",
       "      <td>0</td>\n",
       "      <td>0</td>\n",
       "      <td>...</td>\n",
       "      <td>0</td>\n",
       "      <td>0</td>\n",
       "      <td>0</td>\n",
       "      <td>3</td>\n",
       "      <td>0</td>\n",
       "      <td>0</td>\n",
       "      <td>2.0</td>\n",
       "      <td>0</td>\n",
       "      <td>0</td>\n",
       "      <td>1</td>\n",
       "    </tr>\n",
       "    <tr>\n",
       "      <th>3</th>\n",
       "      <td>4</td>\n",
       "      <td>35.0</td>\n",
       "      <td>53.1000</td>\n",
       "      <td>1</td>\n",
       "      <td>1</td>\n",
       "      <td>0</td>\n",
       "      <td>0</td>\n",
       "      <td>0</td>\n",
       "      <td>0</td>\n",
       "      <td>0</td>\n",
       "      <td>...</td>\n",
       "      <td>0</td>\n",
       "      <td>0</td>\n",
       "      <td>0</td>\n",
       "      <td>1</td>\n",
       "      <td>0</td>\n",
       "      <td>0</td>\n",
       "      <td>2.0</td>\n",
       "      <td>0</td>\n",
       "      <td>0</td>\n",
       "      <td>1</td>\n",
       "    </tr>\n",
       "    <tr>\n",
       "      <th>4</th>\n",
       "      <td>5</td>\n",
       "      <td>35.0</td>\n",
       "      <td>8.0500</td>\n",
       "      <td>0</td>\n",
       "      <td>0</td>\n",
       "      <td>0</td>\n",
       "      <td>0</td>\n",
       "      <td>0</td>\n",
       "      <td>0</td>\n",
       "      <td>0</td>\n",
       "      <td>...</td>\n",
       "      <td>0</td>\n",
       "      <td>0</td>\n",
       "      <td>0</td>\n",
       "      <td>3</td>\n",
       "      <td>0</td>\n",
       "      <td>0</td>\n",
       "      <td>2.0</td>\n",
       "      <td>0</td>\n",
       "      <td>0</td>\n",
       "      <td>0</td>\n",
       "    </tr>\n",
       "  </tbody>\n",
       "</table>\n",
       "<p>5 rows × 28 columns</p>\n",
       "</div>"
      ],
      "text/plain": [
       "   Passengerid   Age     Fare  Sex  sibsp  zero  zero.1  zero.2  zero.3  \\\n",
       "0            1  22.0   7.2500    0      1     0       0       0       0   \n",
       "1            2  38.0  71.2833    1      1     0       0       0       0   \n",
       "2            3  26.0   7.9250    1      0     0       0       0       0   \n",
       "3            4  35.0  53.1000    1      1     0       0       0       0   \n",
       "4            5  35.0   8.0500    0      0     0       0       0       0   \n",
       "\n",
       "   zero.4    ...     zero.12  zero.13  zero.14  Pclass  zero.15  zero.16  \\\n",
       "0       0    ...           0        0        0       3        0        0   \n",
       "1       0    ...           0        0        0       1        0        0   \n",
       "2       0    ...           0        0        0       3        0        0   \n",
       "3       0    ...           0        0        0       1        0        0   \n",
       "4       0    ...           0        0        0       3        0        0   \n",
       "\n",
       "   Embarked  zero.17  zero.18  Survived  \n",
       "0       2.0        0        0         0  \n",
       "1       0.0        0        0         1  \n",
       "2       2.0        0        0         1  \n",
       "3       2.0        0        0         1  \n",
       "4       2.0        0        0         0  \n",
       "\n",
       "[5 rows x 28 columns]"
      ]
     },
     "execution_count": 12,
     "metadata": {},
     "output_type": "execute_result"
    }
   ],
   "source": [
    "import pandas as pd\n",
    "from sklearn.linear_model import LogisticRegression\n",
    "from sklearn.metrics import mean_squared_error\n",
    "import matplotlib.pyplot as plt\n",
    "import numpy as np\n",
    "\n",
    "titanic_set = pd.read_csv(\"G:/Meu Drive/Mestrado/Disciplinas/RP/disciplina_rp/classification_datasets/titanic_train_and_test2.csv\")\n",
    "titanic_set.head()"
   ]
  },
  {
   "cell_type": "code",
   "execution_count": 13,
   "metadata": {},
   "outputs": [
    {
     "data": {
      "text/html": [
       "<div>\n",
       "<style scoped>\n",
       "    .dataframe tbody tr th:only-of-type {\n",
       "        vertical-align: middle;\n",
       "    }\n",
       "\n",
       "    .dataframe tbody tr th {\n",
       "        vertical-align: top;\n",
       "    }\n",
       "\n",
       "    .dataframe thead th {\n",
       "        text-align: right;\n",
       "    }\n",
       "</style>\n",
       "<table border=\"1\" class=\"dataframe\">\n",
       "  <thead>\n",
       "    <tr style=\"text-align: right;\">\n",
       "      <th></th>\n",
       "      <th>Age</th>\n",
       "      <th>Fare</th>\n",
       "      <th>Sex</th>\n",
       "      <th>sibsp</th>\n",
       "      <th>Parch</th>\n",
       "      <th>Pclass</th>\n",
       "      <th>Embarked</th>\n",
       "      <th>Survived</th>\n",
       "    </tr>\n",
       "  </thead>\n",
       "  <tbody>\n",
       "    <tr>\n",
       "      <th>0</th>\n",
       "      <td>22.0</td>\n",
       "      <td>7.2500</td>\n",
       "      <td>0</td>\n",
       "      <td>1</td>\n",
       "      <td>0</td>\n",
       "      <td>3</td>\n",
       "      <td>2.0</td>\n",
       "      <td>0</td>\n",
       "    </tr>\n",
       "    <tr>\n",
       "      <th>1</th>\n",
       "      <td>38.0</td>\n",
       "      <td>71.2833</td>\n",
       "      <td>1</td>\n",
       "      <td>1</td>\n",
       "      <td>0</td>\n",
       "      <td>1</td>\n",
       "      <td>0.0</td>\n",
       "      <td>1</td>\n",
       "    </tr>\n",
       "    <tr>\n",
       "      <th>2</th>\n",
       "      <td>26.0</td>\n",
       "      <td>7.9250</td>\n",
       "      <td>1</td>\n",
       "      <td>0</td>\n",
       "      <td>0</td>\n",
       "      <td>3</td>\n",
       "      <td>2.0</td>\n",
       "      <td>1</td>\n",
       "    </tr>\n",
       "    <tr>\n",
       "      <th>3</th>\n",
       "      <td>35.0</td>\n",
       "      <td>53.1000</td>\n",
       "      <td>1</td>\n",
       "      <td>1</td>\n",
       "      <td>0</td>\n",
       "      <td>1</td>\n",
       "      <td>2.0</td>\n",
       "      <td>1</td>\n",
       "    </tr>\n",
       "    <tr>\n",
       "      <th>4</th>\n",
       "      <td>35.0</td>\n",
       "      <td>8.0500</td>\n",
       "      <td>0</td>\n",
       "      <td>0</td>\n",
       "      <td>0</td>\n",
       "      <td>3</td>\n",
       "      <td>2.0</td>\n",
       "      <td>0</td>\n",
       "    </tr>\n",
       "  </tbody>\n",
       "</table>\n",
       "</div>"
      ],
      "text/plain": [
       "    Age     Fare  Sex  sibsp  Parch  Pclass  Embarked  Survived\n",
       "0  22.0   7.2500    0      1      0       3       2.0         0\n",
       "1  38.0  71.2833    1      1      0       1       0.0         1\n",
       "2  26.0   7.9250    1      0      0       3       2.0         1\n",
       "3  35.0  53.1000    1      1      0       1       2.0         1\n",
       "4  35.0   8.0500    0      0      0       3       2.0         0"
      ]
     },
     "execution_count": 13,
     "metadata": {},
     "output_type": "execute_result"
    }
   ],
   "source": [
    "#repetindo alguns tratamentos anteriores aplicados no exercicio de classificacao\n",
    "\n",
    "#alterando nome da ultima coluna\n",
    "titanic_set.rename(columns={\"2urvived\": \"Survived\"})\n",
    "\n",
    "#removendo as colunas que não serão consideradas\n",
    "titanic_set.drop(titanic_set.columns[titanic_set.columns.str.contains('zero')], axis=1, inplace=True)\n",
    "\n",
    " #o id não contribui com informações na classificação\n",
    "titanic_set = titanic_set.drop('Passengerid', 1)\n",
    "\n",
    "#verifiquei que haviam dois registros com valores nulos na coluna Embarked, portant removi\n",
    "titanic_set.dropna(inplace=True)\n",
    "titanic_set.isnull().sum()\n",
    "titanic_set.head()"
   ]
  },
  {
   "cell_type": "code",
   "execution_count": 14,
   "metadata": {},
   "outputs": [
    {
     "data": {
      "text/plain": [
       "(1307, (1307, 7), 1307, (1307,))"
      ]
     },
     "execution_count": 14,
     "metadata": {},
     "output_type": "execute_result"
    }
   ],
   "source": [
    "y = titanic_set.Survived\n",
    "X = titanic_set.drop('Survived', 1)\n",
    "\n",
    "len(X), X.shape, len(y), y.shape"
   ]
  },
  {
   "cell_type": "markdown",
   "metadata": {},
   "source": [
    "Verificando a distribuição da base com relação às caracteristicas:"
   ]
  },
  {
   "cell_type": "code",
   "execution_count": 15,
   "metadata": {},
   "outputs": [
    {
     "data": {
      "image/png": "[encoded data removed]",
      "text/plain": [
       "<Figure size 432x288 with 1 Axes>"
      ]
     },
     "metadata": {
      "needs_background": "light"
     },
     "output_type": "display_data"
    }
   ],
   "source": [
    "plt.bar(list(range(X.shape[1])), np.mean(X, axis=0))\n",
    "plt.show()"
   ]
  },
  {
   "cell_type": "markdown",
   "metadata": {},
   "source": [
    "Observamos que as duas primeiras caracteristicas destoam muito das demais, \n",
    "Assim, utilizaremos uma padronização para mitigar pioras no classificador que for sensível a isso, como o KNN"
   ]
  },
  {
   "cell_type": "code",
   "execution_count": 16,
   "metadata": {},
   "outputs": [
    {
     "name": "stderr",
     "output_type": "stream",
     "text": [
      "C:\\ProgramData\\Anaconda3\\lib\\site-packages\\sklearn\\preprocessing\\data.py:625: DataConversionWarning: Data with input dtype int64, float64 were all converted to float64 by StandardScaler.\n",
      "  return self.partial_fit(X, y)\n",
      "C:\\ProgramData\\Anaconda3\\lib\\site-packages\\sklearn\\base.py:462: DataConversionWarning: Data with input dtype int64, float64 were all converted to float64 by StandardScaler.\n",
      "  return self.fit(X, **fit_params).transform(X)\n"
     ]
    },
    {
     "data": {
      "image/png": "[encoded data removed]",
      "text/plain": [
       "<Figure size 432x288 with 1 Axes>"
      ]
     },
     "metadata": {
      "needs_background": "light"
     },
     "output_type": "display_data"
    }
   ],
   "source": [
    "from sklearn.preprocessing import StandardScaler\n",
    "\n",
    "scaler = StandardScaler()\n",
    "X = scaler.fit_transform(X)\n",
    "\n",
    "#verificando novamente\n",
    "plt.bar(list(range(X.shape[1])), np.mean(X, axis=0))\n",
    "plt.show()"
   ]
  },
  {
   "cell_type": "markdown",
   "metadata": {},
   "source": [
    "Melhorou bastante a distribuição das características. \n",
    "Vamos prosseguir com a construção dos dois modelos de classificação que queremos analisar LinearRegression e KNN utilizando cross_validate para avaliação."
   ]
  },
  {
   "cell_type": "code",
   "execution_count": 17,
   "metadata": {},
   "outputs": [],
   "source": [
    "#separando a base em treino e teste antes de treinar os modelos\n",
    "\n",
    "from sklearn.linear_model import LogisticRegression\n",
    "from sklearn.neighbors import KNeighborsClassifier\n",
    "from sklearn.pipeline import Pipeline\n",
    "from sklearn.model_selection import cross_validate\n",
    "from sklearn.model_selection import cross_val_score\n",
    "\n",
    "from sklearn.model_selection import train_test_split\n",
    "from sklearn.metrics import accuracy_score\n",
    "\n",
    "#X_train, X_test, y_train, y_test = train_test_split(X, y, test_size=0.33, random_state=42)"
   ]
  },
  {
   "cell_type": "markdown",
   "metadata": {},
   "source": [
    "# Comparando classificadores \n",
    "As abordagens a seguir seguem utilizando na Parte I - cross_validate (KFold) e na Parte II - ShuffleSplit\n",
    "\n",
    "### Parte 1 - cross_validate (KFold)\n",
    "Na primeira parte, utilizaremos o método cross_validate que executa uma validação utilizando KFold ou KFoldStratified.\n"
   ]
  },
  {
   "cell_type": "code",
   "execution_count": 18,
   "metadata": {},
   "outputs": [
    {
     "name": "stdout",
     "output_type": "stream",
     "text": [
      "LogisticRegression\n",
      "0| k = 2 score: 0.741\n",
      "1| k = 3 score: 0.773\n",
      "2| k = 4 score: 0.770\n",
      "3| k = 5 score: 0.773\n",
      "4| k = 6 score: 0.780\n",
      "5| k = 7 score: 0.780\n",
      "6| k = 8 score: 0.777\n",
      "7| k = 9 score: 0.782\n",
      "8| k = 10 score: 0.781\n",
      "9| k = 11 score: 0.782\n",
      "KNeighborsClassifier\n",
      "0| k = 2 score: 0.742\n",
      "1| k = 3 score: 0.760\n",
      "2| k = 4 score: 0.754\n",
      "3| k = 5 score: 0.759\n",
      "4| k = 6 score: 0.754\n",
      "5| k = 7 score: 0.756\n",
      "6| k = 8 score: 0.751\n",
      "7| k = 9 score: 0.749\n",
      "8| k = 10 score: 0.754\n",
      "9| k = 11 score: 0.757\n"
     ]
    },
    {
     "data": {
      "image/png": "[encoded data removed]",
      "text/plain": [
       "<Figure size 432x288 with 1 Axes>"
      ]
     },
     "metadata": {
      "needs_background": "light"
     },
     "output_type": "display_data"
    }
   ],
   "source": [
    "classifiers = [\n",
    "    LogisticRegression(solver='lbfgs', max_iter=400),\n",
    "    KNeighborsClassifier()]\n",
    "\n",
    "results = []\n",
    "for classifier in classifiers:\n",
    "    steps = [\n",
    "        ('padronizacao', scaler),\n",
    "        ('classificador', classifier)\n",
    "    ]\n",
    "\n",
    "    pipeline = Pipeline(steps)\n",
    "    clf = str(classifier).split('(')[0]\n",
    "\n",
    "    #, scoring=make_scorer(mean_squared_error, greater_is_better=False, squared=False) --- no cross_validate\n",
    "\n",
    "    print(f\"{clf}\")    \n",
    "    for i in range(10):\n",
    "        scores = cross_validate(pipeline, X, y, cv=i+2)    #forcei variar o parâmetro k para verificar os diferentes valores obtidos\n",
    "        test_scores = np.mean(scores['test_score'])\n",
    "        results.append(test_scores)\n",
    "        print(f\"{i}| k = {i+2} score: %.3f\" % test_scores)    \n",
    "\n",
    "div = int(len(results)/2)\n",
    "colunas = ['Logist Regression', 'KNN']\n",
    "mean_logistic = np.mean(results[:div])\n",
    "mean_knn = np.mean(results[div:])\n",
    "\n",
    "plt.bar(colunas, np.array( [mean_logistic, mean_knn]) - 0.74, bottom=0.74)\n",
    "plt.ylabel(\"Score Médio\")\n",
    "plt.show()\n",
    "    "
   ]
  },
  {
   "cell_type": "markdown",
   "metadata": {},
   "source": [
    "Observamos que aumentando os valores de k no LogisticRegression houve uma suave tendência de melhora; já no KNN não fica claro um valor ideal de k apenas com essa variação. O uso do GridSearchCV ajudaria a definir um de forma automática. De forma geral, o uso do cross_validate com ambos algoritmos apresentou melhor resultado de classificação no LogistRegression."
   ]
  },
  {
   "cell_type": "markdown",
   "metadata": {},
   "source": [
    "### Parte 2 - ShuffleSplit\n",
    "Na primeira parte, utilizaremos o método cross_val_score com ShuffleSplit para divisão de treino e teste."
   ]
  },
  {
   "cell_type": "code",
   "execution_count": 19,
   "metadata": {},
   "outputs": [
    {
     "name": "stdout",
     "output_type": "stream",
     "text": [
      "LogisticRegression\n",
      "0| k = 2 score: 0.789\n",
      "1| k = 3 score: 0.788\n",
      "2| k = 4 score: 0.783\n",
      "3| k = 5 score: 0.789\n",
      "4| k = 6 score: 0.791\n",
      "5| k = 7 score: 0.791\n",
      "6| k = 8 score: 0.789\n",
      "7| k = 9 score: 0.787\n",
      "8| k = 10 score: 0.788\n",
      "9| k = 11 score: 0.788\n",
      "KNeighborsClassifier\n",
      "0| k = 2 score: 0.756\n",
      "1| k = 3 score: 0.758\n",
      "2| k = 4 score: 0.754\n",
      "3| k = 5 score: 0.760\n",
      "4| k = 6 score: 0.763\n",
      "5| k = 7 score: 0.767\n",
      "6| k = 8 score: 0.767\n",
      "7| k = 9 score: 0.767\n",
      "8| k = 10 score: 0.767\n",
      "9| k = 11 score: 0.768\n"
     ]
    },
    {
     "data": {
      "image/png": "[encoded data removed]",
      "text/plain": [
       "<Figure size 432x288 with 1 Axes>"
      ]
     },
     "metadata": {
      "needs_background": "light"
     },
     "output_type": "display_data"
    }
   ],
   "source": [
    "from sklearn.model_selection import ShuffleSplit\n",
    "\n",
    "results = []\n",
    "for classifier in classifiers:\n",
    "    steps = [\n",
    "        ('padronizacao', scaler),\n",
    "        ('classificador', classifier)\n",
    "    ]\n",
    "\n",
    "    pipeline = Pipeline(steps)\n",
    "    clf = str(classifier).split('(')[0]\n",
    "\n",
    "    print(f\"{clf}\")    \n",
    "    for i in range(10):\n",
    "        \n",
    "        cv = ShuffleSplit(n_splits=(i+2), test_size=0.3, random_state=0) #mais uma vez, variei o splits para verificar resultados diferentes\n",
    "        test_scores = cross_val_score(classifier, X, y, cv=cv)\n",
    "        m = np.mean(test_scores)\n",
    "        results.append(m)\n",
    "        print(f\"{i}| k = {i+2} score: %.3f\" % m)    \n",
    "\n",
    "div = int(len(results)/2)\n",
    "colunas = ['Logist Regression', 'KNN']\n",
    "mean_logistic = np.mean(results[:div])\n",
    "mean_knn = np.mean(results[div:])\n",
    "\n",
    "plt.bar(colunas, np.array( [mean_logistic, mean_knn]) - 0.70, bottom=0.70)\n",
    "plt.ylabel(\"Score Médio\")\n",
    "plt.show()"
   ]
  },
  {
   "cell_type": "markdown",
   "metadata": {},
   "source": [
    "Interessante notar que desta vez, aumentar continuamente os valores de k no LogisticRegression não causou tendência de melhora como no caso anterior; já no KNN, aparentemente sim. Mais uma vez, o uso do GridSearchCV ajudaria a definir um de forma automática. O uso do cross_val_score com ShuffleSplit em ambos algoritmos apresentou melhor resultado de classificação no LogistRegression.\n",
    "\n",
    "Em ambos casos, o LogisticRegression foi melhor que o KNN e com ShuffleSplit teve resultados melhores. Além disso, a performance do KNN com ShuffleSplit foi um pouco melhor que a performance do KNN com KFold. Para esta base de dados e classificação, o ShuffleSplit apresentou melhores resultados."
   ]
  }
 ],
 "metadata": {
  "interpreter": {
   "hash": "b3ba2566441a7c06988d0923437866b63cedc61552a5af99d1f4fb67d367b25f"
  },
  "kernelspec": {
   "display_name": "Python 3.7.1 64-bit",
   "language": "python",
   "name": "python3"
  },
  "language_info": {
   "codemirror_mode": {
    "name": "ipython",
    "version": 3
   },
   "file_extension": ".py",
   "mimetype": "text/x-python",
   "name": "python",
   "nbconvert_exporter": "python",
   "pygments_lexer": "ipython3",
   "version": "3.7.1"
  },
  "orig_nbformat": 4
 },
 "nbformat": 4,
 "nbformat_minor": 2
}
