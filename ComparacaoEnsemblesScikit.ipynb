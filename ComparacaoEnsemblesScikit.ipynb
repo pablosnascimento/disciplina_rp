{
 "cells": [
  {
   "cell_type": "markdown",
   "metadata": {},
   "source": [
    "# Comparação de Ensembles #\n",
    "\n",
    "## Parte I - Carregando e tratando inicialmente o dataset\n",
    "\n",
    "1- Use uma base de dados para classificação com pelo menos 1000 amostras;\n",
    "\n",
    "Utilizarei uma base do próprio Scikit Learn dos dígitos que possui 1797 amostras."
   ]
  },
  {
   "cell_type": "code",
   "execution_count": 14,
   "metadata": {},
   "outputs": [
    {
     "name": "stdout",
     "output_type": "stream",
     "text": [
      "(1797, 64)\n"
     ]
    }
   ],
   "source": [
    "from sklearn.datasets import load_digits\n",
    "import pandas as pd\n",
    "from sklearn.metrics import mean_squared_error\n",
    "import matplotlib.pyplot as plt\n",
    "import numpy as np\n",
    "\n",
    "digits = load_digits()\n",
    "print(digits.data.shape)"
   ]
  },
  {
   "cell_type": "code",
   "execution_count": 15,
   "metadata": {},
   "outputs": [
    {
     "data": {
      "text/plain": [
       "<Figure size 432x288 with 0 Axes>"
      ]
     },
     "metadata": {},
     "output_type": "display_data"
    },
    {
     "data": {
      "image/png": "[encoded data removed]",
      "text/plain": [
       "<Figure size 288x288 with 1 Axes>"
      ]
     },
     "metadata": {
      "needs_background": "light"
     },
     "output_type": "display_data"
    }
   ],
   "source": [
    "import matplotlib.pyplot as plt\n",
    "plt.gray()\n",
    "plt.matshow(digits.images[0])\n",
    "\n",
    "plt.show()"
   ]
  },
  {
   "cell_type": "code",
   "execution_count": 16,
   "metadata": {},
   "outputs": [
    {
     "data": {
      "text/plain": [
       "((1797, 64), (1797,))"
      ]
     },
     "execution_count": 16,
     "metadata": {},
     "output_type": "execute_result"
    }
   ],
   "source": [
    "X = digits.data\n",
    "y = digits.target\n",
    "\n",
    "X.shape, y.shape"
   ]
  },
  {
   "cell_type": "code",
   "execution_count": 17,
   "metadata": {},
   "outputs": [
    {
     "data": {
      "text/plain": [
       "((1347, 64), (450, 64), (1347,), (450,))"
      ]
     },
     "execution_count": 17,
     "metadata": {},
     "output_type": "execute_result"
    }
   ],
   "source": [
    "#por ultimo, vamos preparar a base já dividindo em treino e teste\n",
    "\n",
    "from sklearn.model_selection import train_test_split\n",
    "from sklearn.model_selection import cross_validate\n",
    "from sklearn.metrics import accuracy_score\n",
    "\n",
    "X_train, X_test, y_train, y_test = train_test_split(X, y, random_state=42)\n",
    "\n",
    "X_train.shape, X_test.shape, y_train.shape, y_test.shape"
   ]
  },
  {
   "cell_type": "markdown",
   "metadata": {},
   "source": [
    "## Parte II - Comparando Ensembles #\n",
    "\n",
    "Escolha pelo menos três algoritmos de classificação para comparação dos emsembles.\n",
    "\n",
    "Escolhi o Bagging, AdaBoost e RandomForest, mas fiz o teste também com o KNN, o LogisticRegression e o SVM.\n"
   ]
  },
  {
   "cell_type": "code",
   "execution_count": 18,
   "metadata": {},
   "outputs": [],
   "source": [
    "import warnings\n",
    "warnings.filterwarnings('ignore')"
   ]
  },
  {
   "cell_type": "markdown",
   "metadata": {},
   "source": [
    "### KNN"
   ]
  },
  {
   "cell_type": "code",
   "execution_count": 19,
   "metadata": {},
   "outputs": [
    {
     "name": "stdout",
     "output_type": "stream",
     "text": [
      "Fitting 3 folds for each of 20 candidates, totalling 60 fits\n",
      "-0.737110324467266\n",
      "KNeighborsClassifier(metric='manhattan', n_neighbors=3, weights='distance')\n",
      "{'metric': 'manhattan', 'n_neighbors': 3, 'weights': 'distance'}\n"
     ]
    },
    {
     "data": {
      "text/plain": [
       "0.98"
      ]
     },
     "execution_count": 19,
     "metadata": {},
     "output_type": "execute_result"
    }
   ],
   "source": [
    "from sklearn.model_selection import GridSearchCV\n",
    "from sklearn.neighbors import KNeighborsClassifier\n",
    "from sklearn.metrics import make_scorer, mean_squared_error\n",
    "\n",
    "parametros = {\n",
    "    'n_neighbors': [3,5,7,9,11], \n",
    "    'weights': ['uniform', 'distance'],\n",
    "    'metric': ['euclidian', 'manhattan']}\n",
    "modKNN = GridSearchCV(KNeighborsClassifier(), parametros, verbose=1, cv=3, scoring=make_scorer(mean_squared_error, greater_is_better=False, squared=False))\n",
    "modKNN.fit(X_train, y_train)\n",
    "\n",
    "print(modKNN.best_score_)\n",
    "print(modKNN.best_estimator_)\n",
    "print(modKNN.best_params_)\n",
    "\n",
    "y_pred_knn = modKNN.predict(X_test)\n",
    "accuracy_score(y_test, y_pred_knn)\n"
   ]
  },
  {
   "cell_type": "code",
   "execution_count": 20,
   "metadata": {},
   "outputs": [
    {
     "data": {
      "text/plain": [
       "0.9844444444444445"
      ]
     },
     "execution_count": 20,
     "metadata": {},
     "output_type": "execute_result"
    }
   ],
   "source": [
    "from sklearn.neighbors import KNeighborsClassifier\n",
    "knnModel = KNeighborsClassifier(metric='manhattan', n_neighbors=9, weights='distance')\n",
    "knnModel.fit(X_train, y_train)\n",
    "y_pred_knn = knnModel.predict(X_test)\n",
    "\n",
    "accuracy_score(y_test, y_pred_knn)"
   ]
  },
  {
   "cell_type": "markdown",
   "metadata": {},
   "source": [
    "### LogisticRegression"
   ]
  },
  {
   "cell_type": "code",
   "execution_count": 21,
   "metadata": {},
   "outputs": [
    {
     "name": "stdout",
     "output_type": "stream",
     "text": [
      "Fitting 3 folds for each of 96 candidates, totalling 288 fits\n",
      "-0.9414969697685972\n",
      "LogisticRegression(C=0.1, penalty='l1', solver='liblinear')\n",
      "{'C': 0.1, 'penalty': 'l1', 'solver': 'liblinear'}\n"
     ]
    },
    {
     "data": {
      "text/plain": [
       "0.9622222222222222"
      ]
     },
     "execution_count": 21,
     "metadata": {},
     "output_type": "execute_result"
    }
   ],
   "source": [
    "from sklearn.linear_model import LogisticRegression\n",
    "\n",
    "parametros = {\n",
    "    'solver': ['newton-cg', 'lbfgs', 'liblinear'], \n",
    "    'penalty': ['none', 'l1', 'l2', 'elasticnet'],\n",
    "    'C': [1e-5, 1e-4, 1e-3, 1e-2, 1e-1, 1, 10, 100]}\n",
    "modLR = GridSearchCV(LogisticRegression(), parametros, verbose=1, cv=3, scoring=make_scorer(mean_squared_error, greater_is_better=False, squared=False))\n",
    "modLR.fit(X_train, y_train)\n",
    "\n",
    "print(modLR.best_score_)\n",
    "print(modLR.best_estimator_)\n",
    "print(modLR.best_params_)\n",
    "\n",
    "y_pred_lr = modLR.predict(X_test)\n",
    "accuracy_score(y_test, y_pred_lr)\n"
   ]
  },
  {
   "cell_type": "code",
   "execution_count": 22,
   "metadata": {},
   "outputs": [
    {
     "data": {
      "text/plain": [
       "0.9733333333333334"
      ]
     },
     "execution_count": 22,
     "metadata": {},
     "output_type": "execute_result"
    }
   ],
   "source": [
    "lrModel = LogisticRegression()\n",
    "lrModel.fit(X_train, y_train)\n",
    "y_pred_lr = lrModel.predict(X_test)\n",
    "\n",
    "accuracy_score(y_test, y_pred_lr)"
   ]
  },
  {
   "cell_type": "markdown",
   "metadata": {},
   "source": [
    "### SVM"
   ]
  },
  {
   "cell_type": "code",
   "execution_count": 23,
   "metadata": {},
   "outputs": [
    {
     "name": "stdout",
     "output_type": "stream",
     "text": [
      "Fitting 3 folds for each of 24 candidates, totalling 72 fits\n",
      "-0.5439397105662817\n",
      "SVC(C=0.1, gamma=0.001, kernel='poly')\n",
      "{'C': 0.1, 'gamma': 0.001, 'kernel': 'poly'}\n"
     ]
    },
    {
     "data": {
      "text/plain": [
       "0.9911111111111112"
      ]
     },
     "execution_count": 23,
     "metadata": {},
     "output_type": "execute_result"
    }
   ],
   "source": [
    "from sklearn.svm import SVC\n",
    "parametros = {\n",
    "    'C': [0.1,1, 10, 100], \n",
    "    'gamma': [0.01,0.001],\n",
    "    'kernel': ['rbf', 'poly', 'sigmoid']\n",
    "}\n",
    "\n",
    "modSVC = GridSearchCV(SVC(), parametros, verbose=1, cv=3, scoring=make_scorer(mean_squared_error, greater_is_better=False, squared=False))\n",
    "modSVC.fit(X_train, y_train)\n",
    "\n",
    "print(modSVC.best_score_)\n",
    "print(modSVC.best_estimator_)\n",
    "print(modSVC.best_params_)\n",
    "\n",
    "y_pred_svc = modSVC.predict(X_test)\n",
    "accuracy_score(y_test, y_pred_svc)"
   ]
  },
  {
   "cell_type": "markdown",
   "metadata": {},
   "source": [
    "### Bagging Classifier"
   ]
  },
  {
   "cell_type": "code",
   "execution_count": 24,
   "metadata": {},
   "outputs": [
    {
     "name": "stdout",
     "output_type": "stream",
     "text": [
      "Fitting 3 folds for each of 20 candidates, totalling 60 fits\n"
     ]
    },
    {
     "data": {
      "text/plain": [
       "0.9533333333333334"
      ]
     },
     "execution_count": 24,
     "metadata": {},
     "output_type": "execute_result"
    }
   ],
   "source": [
    "from sklearn.ensemble import BaggingClassifier\n",
    "from sklearn.tree import DecisionTreeClassifier\n",
    "\n",
    "parametros = {\n",
    "    'base_estimator__max_depth' : [1, 2, 3, 4, 5],\n",
    "    'max_samples' : [0.05, 0.1, 0.2, 0.5]\n",
    "}\n",
    "\n",
    "modBagging = GridSearchCV(BaggingClassifier(DecisionTreeClassifier(), n_estimators = 100, max_features = 0.5),\n",
    "                         parametros, verbose=1, cv=3, scoring=make_scorer(mean_squared_error, greater_is_better=False, squared=False))\n",
    "modBagging.fit(X_train, y_train)\n",
    "y_pred_bag = modBagging.predict(X_test)\n",
    "\n",
    "accuracy_score(y_test, y_pred_bag)"
   ]
  },
  {
   "cell_type": "markdown",
   "metadata": {},
   "source": [
    "### Ada Boost"
   ]
  },
  {
   "cell_type": "code",
   "execution_count": 25,
   "metadata": {},
   "outputs": [
    {
     "name": "stdout",
     "output_type": "stream",
     "text": [
      "Fitting 3 folds for each of 20 candidates, totalling 60 fits\n"
     ]
    },
    {
     "data": {
      "text/plain": [
       "0.7933333333333333"
      ]
     },
     "execution_count": 25,
     "metadata": {},
     "output_type": "execute_result"
    }
   ],
   "source": [
    "from sklearn.ensemble import AdaBoostClassifier\n",
    "\n",
    "parametros = {\n",
    "    'n_estimators': [10, 50, 100, 500],\n",
    "    'learning_rate': [0.0001, 0.001, 0.01, 0.1, 1.0]\n",
    "}\n",
    "\n",
    "modAdaBoost = GridSearchCV(AdaBoostClassifier(), parametros, verbose=1, cv=3, scoring=make_scorer(mean_squared_error, greater_is_better=False, squared=False))\n",
    "modAdaBoost.fit(X_train, y_train)\n",
    "y_pred_ada = modAdaBoost.predict(X_test)\n",
    "\n",
    "accuracy_score(y_test, y_pred_ada)"
   ]
  },
  {
   "cell_type": "markdown",
   "metadata": {},
   "source": [
    "### Random Forest"
   ]
  },
  {
   "cell_type": "code",
   "execution_count": 26,
   "metadata": {},
   "outputs": [
    {
     "name": "stdout",
     "output_type": "stream",
     "text": [
      "Fitting 3 folds for each of 24 candidates, totalling 72 fits\n"
     ]
    },
    {
     "data": {
      "text/plain": [
       "0.9733333333333334"
      ]
     },
     "execution_count": 26,
     "metadata": {},
     "output_type": "execute_result"
    }
   ],
   "source": [
    "from sklearn.ensemble import RandomForestClassifier\n",
    "\n",
    "parametros = {\n",
    "    'max_depth': [15, 50],\n",
    "    'max_features': [2, 3, 4],\n",
    "    #'min_samples_leaf': [3, 4, 5],\n",
    "    #'min_samples_split': [8, 10, 12], #demorando muito...\n",
    "    'n_estimators': [100, 200, 300, 1000]\n",
    "}\n",
    "\n",
    "rfModel = GridSearchCV(RandomForestClassifier(), param_grid=parametros, verbose=1, cv=3, scoring=make_scorer(mean_squared_error, greater_is_better=False, squared=False))\n",
    "rfModel.fit(X_train, y_train)\n",
    "y_pred_rf = rfModel.predict(X_test)\n",
    "\n",
    "accuracy_score(y_test, y_pred_rf)"
   ]
  },
  {
   "cell_type": "markdown",
   "metadata": {},
   "source": [
    "Vamos verificar as diferenças apresentadas em cada resultado para uma avaliação melhor."
   ]
  },
  {
   "cell_type": "code",
   "execution_count": 27,
   "metadata": {},
   "outputs": [],
   "source": [
    "#baghits = y_pred_bag == y_test\n",
    "#adahits = y_pred_ada == y_test\n",
    "#rfhits = y_pred_rf == y_test    \n",
    "\n",
    "#caso queria avaliar como cada um desses classificadores está selecionando seu rotulo:\n",
    "#y_pred = np.stack((baghits, adahits, rfhits))\n",
    "#y_pred.T"
   ]
  },
  {
   "cell_type": "markdown",
   "metadata": {},
   "source": [
    "## Combinação dos classificadores\n",
    "\n",
    "### Voting"
   ]
  },
  {
   "cell_type": "code",
   "execution_count": 28,
   "metadata": {},
   "outputs": [
    {
     "name": "stdout",
     "output_type": "stream",
     "text": [
      "Fitting 3 folds for each of 20 candidates, totalling 60 fits\n",
      "Fitting 3 folds for each of 96 candidates, totalling 288 fits\n",
      "Fitting 3 folds for each of 24 candidates, totalling 72 fits\n",
      "VOTING\n",
      "Classificadores fracos\n",
      " 0.9866666666666667\n"
     ]
    }
   ],
   "source": [
    "from sklearn.ensemble import VotingClassifier\n",
    "vcModel = VotingClassifier([\n",
    "    ('knn', modKNN),\n",
    "    ('logisticregression', modLR),\n",
    "    ('svc', modSVC)\n",
    "])\n",
    "\n",
    "vcModel.fit(X_train, y_train)\n",
    "y_pred_vc = vcModel.predict(X_test)\n",
    "\n",
    "vohits = y_pred_vc == y_test\n",
    "print(\"VOTING\\nClassificadores fracos\\n\", accuracy_score(y_test, y_pred_vc))"
   ]
  },
  {
   "cell_type": "markdown",
   "metadata": {},
   "source": [
    "### Stacking"
   ]
  },
  {
   "cell_type": "code",
   "execution_count": 29,
   "metadata": {},
   "outputs": [
    {
     "name": "stdout",
     "output_type": "stream",
     "text": [
      "Fitting 3 folds for each of 20 candidates, totalling 60 fits\n",
      "Fitting 3 folds for each of 96 candidates, totalling 288 fits\n",
      "Fitting 3 folds for each of 24 candidates, totalling 72 fits\n",
      "Fitting 3 folds for each of 20 candidates, totalling 60 fits\n",
      "Fitting 3 folds for each of 20 candidates, totalling 60 fits\n",
      "Fitting 3 folds for each of 24 candidates, totalling 72 fits\n",
      "Fitting 3 folds for each of 20 candidates, totalling 60 fits\n",
      "Fitting 3 folds for each of 96 candidates, totalling 288 fits\n",
      "Fitting 3 folds for each of 24 candidates, totalling 72 fits\n",
      "Fitting 3 folds for each of 20 candidates, totalling 60 fits\n",
      "Fitting 3 folds for each of 96 candidates, totalling 288 fits\n",
      "Fitting 3 folds for each of 24 candidates, totalling 72 fits\n",
      "Fitting 3 folds for each of 20 candidates, totalling 60 fits\n",
      "Fitting 3 folds for each of 96 candidates, totalling 288 fits\n",
      "Fitting 3 folds for each of 24 candidates, totalling 72 fits\n",
      "Fitting 3 folds for each of 20 candidates, totalling 60 fits\n",
      "Fitting 3 folds for each of 20 candidates, totalling 60 fits\n",
      "Fitting 3 folds for each of 20 candidates, totalling 60 fits\n",
      "Fitting 3 folds for each of 20 candidates, totalling 60 fits\n",
      "Fitting 3 folds for each of 20 candidates, totalling 60 fits\n",
      "Fitting 3 folds for each of 20 candidates, totalling 60 fits\n",
      "Fitting 3 folds for each of 24 candidates, totalling 72 fits\n",
      "Fitting 3 folds for each of 24 candidates, totalling 72 fits\n",
      "Fitting 3 folds for each of 24 candidates, totalling 72 fits\n",
      "STACKING\n",
      "Classificadores ensemble\n",
      " 0.98\n"
     ]
    }
   ],
   "source": [
    "from sklearn.ensemble import StackingClassifier\n",
    "\n",
    "modeloStacking = StackingClassifier([\n",
    "    ('voting', vcModel),\n",
    "    ('bagging', modBagging),\n",
    "    ('adaboost', modAdaBoost),\n",
    "    ('randomforest', rfModel)\n",
    "], cv=3, passthrough=True)\n",
    "#vc = 3, validação cruzada estratificada, buscando melhorar\n",
    "#passTrue reutiliza os dados para treinar tudo\n",
    "\n",
    "modeloStacking.fit(X_train, y_train)\n",
    "y_pred_stack = modeloStacking.predict(X_test)\n",
    "\n",
    "print(\"STACKING\\nClassificadores ensemble\\n\", accuracy_score(y_test, y_pred_stack))\n",
    "schits = y_pred_stack == y_test\n"
   ]
  },
  {
   "cell_type": "markdown",
   "metadata": {},
   "source": [
    "### Resultados\n",
    "\n",
    "Interessante como alguns classificadores \"fracos\" tiveram resultados muito bons para esta base otimizando seus parâmetros com GridSarch. Interessante também notar que mesmo os classificadores de ensemble não terem tido os melhores resultados individualmente, como o AdaBoost que piorou bastante, ainda assim, o stacking com os ensembles garantiu um resultado muito bom confirmando a consistência e forte possibilidade de melhora na classificação que é esperada quando se aplica esta técnica."
   ]
  }
 ],
 "metadata": {
  "interpreter": {
   "hash": "b3ba2566441a7c06988d0923437866b63cedc61552a5af99d1f4fb67d367b25f"
  },
  "kernelspec": {
   "display_name": "Python 3.7.1 64-bit",
   "language": "python",
   "name": "python3"
  },
  "language_info": {
   "codemirror_mode": {
    "name": "ipython",
    "version": 3
   },
   "file_extension": ".py",
   "mimetype": "text/x-python",
   "name": "python",
   "nbconvert_exporter": "python",
   "pygments_lexer": "ipython3",
   "version": "3.7.1"
  },
  "orig_nbformat": 4
 },
 "nbformat": 4,
 "nbformat_minor": 2
}
