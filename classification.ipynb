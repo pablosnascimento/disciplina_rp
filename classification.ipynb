{
 "cells": [
  {
   "cell_type": "markdown",
   "metadata": {},
   "source": [
    "# Classificação\n",
    "\n",
    "1. Carregue uma base de dados de classificação (binária ou multiclasse, mas não multirrótulo) que NÃO esteja nos toy datasets do scikit-learn;\n",
    "\n",
    "Escolhi um dataset sobre o desastre do Titanic. Vi que ele será utilizado em exercícios posteriores, então, para familiarizar com o conteúdo, vou utilizá-lo neste também. \n",
    "\n",
    "Disponível no Kaggle: https://www.kaggle.com/heptapod/titanic\n",
    "\n",
    "Algumas alterações na base original feitas pelo próprio disponibilizador do Kaggle para melhorar resultados em regressão logística:\n",
    "\n",
    "\"This is the original data from Titanic competition plus some changes that I applied to it to be better suited for binary logistic regression:\n",
    "Merged the train and test data.\n",
    "Removed the 'ticket' and 'cabin' attributes.\n",
    "Moved the 'Survived' attribute to the last column.\n",
    "Added extra zero columns for categorical inputs to be better suited for One-Hot-Encoding.\n",
    "Substituted the values of 'Sex' and 'Embarked' attributes with binary and categorical values respectively.\n",
    "Filled the missing values in 'Age' and 'Fare' attributes with the median of the data.\""
   ]
  },
  {
   "cell_type": "code",
   "execution_count": 155,
   "metadata": {},
   "outputs": [
    {
     "data": {
      "text/html": [
       "<div>\n",
       "<style scoped>\n",
       "    .dataframe tbody tr th:only-of-type {\n",
       "        vertical-align: middle;\n",
       "    }\n",
       "\n",
       "    .dataframe tbody tr th {\n",
       "        vertical-align: top;\n",
       "    }\n",
       "\n",
       "    .dataframe thead th {\n",
       "        text-align: right;\n",
       "    }\n",
       "</style>\n",
       "<table border=\"1\" class=\"dataframe\">\n",
       "  <thead>\n",
       "    <tr style=\"text-align: right;\">\n",
       "      <th></th>\n",
       "      <th>Passengerid</th>\n",
       "      <th>Age</th>\n",
       "      <th>Fare</th>\n",
       "      <th>Sex</th>\n",
       "      <th>sibsp</th>\n",
       "      <th>zero</th>\n",
       "      <th>zero.1</th>\n",
       "      <th>zero.2</th>\n",
       "      <th>zero.3</th>\n",
       "      <th>zero.4</th>\n",
       "      <th>...</th>\n",
       "      <th>zero.12</th>\n",
       "      <th>zero.13</th>\n",
       "      <th>zero.14</th>\n",
       "      <th>Pclass</th>\n",
       "      <th>zero.15</th>\n",
       "      <th>zero.16</th>\n",
       "      <th>Embarked</th>\n",
       "      <th>zero.17</th>\n",
       "      <th>zero.18</th>\n",
       "      <th>Survived</th>\n",
       "    </tr>\n",
       "  </thead>\n",
       "  <tbody>\n",
       "    <tr>\n",
       "      <th>0</th>\n",
       "      <td>1</td>\n",
       "      <td>22.0</td>\n",
       "      <td>7.2500</td>\n",
       "      <td>0</td>\n",
       "      <td>1</td>\n",
       "      <td>0</td>\n",
       "      <td>0</td>\n",
       "      <td>0</td>\n",
       "      <td>0</td>\n",
       "      <td>0</td>\n",
       "      <td>...</td>\n",
       "      <td>0</td>\n",
       "      <td>0</td>\n",
       "      <td>0</td>\n",
       "      <td>3</td>\n",
       "      <td>0</td>\n",
       "      <td>0</td>\n",
       "      <td>2.0</td>\n",
       "      <td>0</td>\n",
       "      <td>0</td>\n",
       "      <td>0</td>\n",
       "    </tr>\n",
       "    <tr>\n",
       "      <th>1</th>\n",
       "      <td>2</td>\n",
       "      <td>38.0</td>\n",
       "      <td>71.2833</td>\n",
       "      <td>1</td>\n",
       "      <td>1</td>\n",
       "      <td>0</td>\n",
       "      <td>0</td>\n",
       "      <td>0</td>\n",
       "      <td>0</td>\n",
       "      <td>0</td>\n",
       "      <td>...</td>\n",
       "      <td>0</td>\n",
       "      <td>0</td>\n",
       "      <td>0</td>\n",
       "      <td>1</td>\n",
       "      <td>0</td>\n",
       "      <td>0</td>\n",
       "      <td>0.0</td>\n",
       "      <td>0</td>\n",
       "      <td>0</td>\n",
       "      <td>1</td>\n",
       "    </tr>\n",
       "    <tr>\n",
       "      <th>2</th>\n",
       "      <td>3</td>\n",
       "      <td>26.0</td>\n",
       "      <td>7.9250</td>\n",
       "      <td>1</td>\n",
       "      <td>0</td>\n",
       "      <td>0</td>\n",
       "      <td>0</td>\n",
       "      <td>0</td>\n",
       "      <td>0</td>\n",
       "      <td>0</td>\n",
       "      <td>...</td>\n",
       "      <td>0</td>\n",
       "      <td>0</td>\n",
       "      <td>0</td>\n",
       "      <td>3</td>\n",
       "      <td>0</td>\n",
       "      <td>0</td>\n",
       "      <td>2.0</td>\n",
       "      <td>0</td>\n",
       "      <td>0</td>\n",
       "      <td>1</td>\n",
       "    </tr>\n",
       "    <tr>\n",
       "      <th>3</th>\n",
       "      <td>4</td>\n",
       "      <td>35.0</td>\n",
       "      <td>53.1000</td>\n",
       "      <td>1</td>\n",
       "      <td>1</td>\n",
       "      <td>0</td>\n",
       "      <td>0</td>\n",
       "      <td>0</td>\n",
       "      <td>0</td>\n",
       "      <td>0</td>\n",
       "      <td>...</td>\n",
       "      <td>0</td>\n",
       "      <td>0</td>\n",
       "      <td>0</td>\n",
       "      <td>1</td>\n",
       "      <td>0</td>\n",
       "      <td>0</td>\n",
       "      <td>2.0</td>\n",
       "      <td>0</td>\n",
       "      <td>0</td>\n",
       "      <td>1</td>\n",
       "    </tr>\n",
       "    <tr>\n",
       "      <th>4</th>\n",
       "      <td>5</td>\n",
       "      <td>35.0</td>\n",
       "      <td>8.0500</td>\n",
       "      <td>0</td>\n",
       "      <td>0</td>\n",
       "      <td>0</td>\n",
       "      <td>0</td>\n",
       "      <td>0</td>\n",
       "      <td>0</td>\n",
       "      <td>0</td>\n",
       "      <td>...</td>\n",
       "      <td>0</td>\n",
       "      <td>0</td>\n",
       "      <td>0</td>\n",
       "      <td>3</td>\n",
       "      <td>0</td>\n",
       "      <td>0</td>\n",
       "      <td>2.0</td>\n",
       "      <td>0</td>\n",
       "      <td>0</td>\n",
       "      <td>0</td>\n",
       "    </tr>\n",
       "  </tbody>\n",
       "</table>\n",
       "<p>5 rows × 28 columns</p>\n",
       "</div>"
      ],
      "text/plain": [
       "   Passengerid   Age     Fare  Sex  sibsp  zero  zero.1  zero.2  zero.3  \\\n",
       "0            1  22.0   7.2500    0      1     0       0       0       0   \n",
       "1            2  38.0  71.2833    1      1     0       0       0       0   \n",
       "2            3  26.0   7.9250    1      0     0       0       0       0   \n",
       "3            4  35.0  53.1000    1      1     0       0       0       0   \n",
       "4            5  35.0   8.0500    0      0     0       0       0       0   \n",
       "\n",
       "   zero.4  ...  zero.12  zero.13  zero.14  Pclass  zero.15  zero.16  Embarked  \\\n",
       "0       0  ...        0        0        0       3        0        0       2.0   \n",
       "1       0  ...        0        0        0       1        0        0       0.0   \n",
       "2       0  ...        0        0        0       3        0        0       2.0   \n",
       "3       0  ...        0        0        0       1        0        0       2.0   \n",
       "4       0  ...        0        0        0       3        0        0       2.0   \n",
       "\n",
       "   zero.17  zero.18  Survived  \n",
       "0        0        0         0  \n",
       "1        0        0         1  \n",
       "2        0        0         1  \n",
       "3        0        0         1  \n",
       "4        0        0         0  \n",
       "\n",
       "[5 rows x 28 columns]"
      ]
     },
     "execution_count": 155,
     "metadata": {},
     "output_type": "execute_result"
    }
   ],
   "source": [
    "import pandas as pd\n",
    "from sklearn.linear_model import LogisticRegression\n",
    "from sklearn.metrics import mean_squared_error\n",
    "import matplotlib.pyplot as plt\n",
    "import numpy as np\n",
    "\n",
    "titanic_set = pd.read_csv(\"G:/Meu Drive/Mestrado/Disciplinas/RP/disciplina_rp/classification_datasets/titanic_train_and_test2.csv\")\n",
    "titanic_set.head()"
   ]
  },
  {
   "cell_type": "code",
   "execution_count": 156,
   "metadata": {},
   "outputs": [
    {
     "data": {
      "text/html": [
       "<div>\n",
       "<style scoped>\n",
       "    .dataframe tbody tr th:only-of-type {\n",
       "        vertical-align: middle;\n",
       "    }\n",
       "\n",
       "    .dataframe tbody tr th {\n",
       "        vertical-align: top;\n",
       "    }\n",
       "\n",
       "    .dataframe thead th {\n",
       "        text-align: right;\n",
       "    }\n",
       "</style>\n",
       "<table border=\"1\" class=\"dataframe\">\n",
       "  <thead>\n",
       "    <tr style=\"text-align: right;\">\n",
       "      <th></th>\n",
       "      <th>Age</th>\n",
       "      <th>Fare</th>\n",
       "      <th>Sex</th>\n",
       "      <th>sibsp</th>\n",
       "      <th>Parch</th>\n",
       "      <th>Pclass</th>\n",
       "      <th>Embarked</th>\n",
       "      <th>Survived</th>\n",
       "    </tr>\n",
       "  </thead>\n",
       "  <tbody>\n",
       "    <tr>\n",
       "      <th>0</th>\n",
       "      <td>22.0</td>\n",
       "      <td>7.2500</td>\n",
       "      <td>0</td>\n",
       "      <td>1</td>\n",
       "      <td>0</td>\n",
       "      <td>3</td>\n",
       "      <td>2.0</td>\n",
       "      <td>0</td>\n",
       "    </tr>\n",
       "    <tr>\n",
       "      <th>1</th>\n",
       "      <td>38.0</td>\n",
       "      <td>71.2833</td>\n",
       "      <td>1</td>\n",
       "      <td>1</td>\n",
       "      <td>0</td>\n",
       "      <td>1</td>\n",
       "      <td>0.0</td>\n",
       "      <td>1</td>\n",
       "    </tr>\n",
       "    <tr>\n",
       "      <th>2</th>\n",
       "      <td>26.0</td>\n",
       "      <td>7.9250</td>\n",
       "      <td>1</td>\n",
       "      <td>0</td>\n",
       "      <td>0</td>\n",
       "      <td>3</td>\n",
       "      <td>2.0</td>\n",
       "      <td>1</td>\n",
       "    </tr>\n",
       "    <tr>\n",
       "      <th>3</th>\n",
       "      <td>35.0</td>\n",
       "      <td>53.1000</td>\n",
       "      <td>1</td>\n",
       "      <td>1</td>\n",
       "      <td>0</td>\n",
       "      <td>1</td>\n",
       "      <td>2.0</td>\n",
       "      <td>1</td>\n",
       "    </tr>\n",
       "    <tr>\n",
       "      <th>4</th>\n",
       "      <td>35.0</td>\n",
       "      <td>8.0500</td>\n",
       "      <td>0</td>\n",
       "      <td>0</td>\n",
       "      <td>0</td>\n",
       "      <td>3</td>\n",
       "      <td>2.0</td>\n",
       "      <td>0</td>\n",
       "    </tr>\n",
       "  </tbody>\n",
       "</table>\n",
       "</div>"
      ],
      "text/plain": [
       "    Age     Fare  Sex  sibsp  Parch  Pclass  Embarked  Survived\n",
       "0  22.0   7.2500    0      1      0       3       2.0         0\n",
       "1  38.0  71.2833    1      1      0       1       0.0         1\n",
       "2  26.0   7.9250    1      0      0       3       2.0         1\n",
       "3  35.0  53.1000    1      1      0       1       2.0         1\n",
       "4  35.0   8.0500    0      0      0       3       2.0         0"
      ]
     },
     "execution_count": 156,
     "metadata": {},
     "output_type": "execute_result"
    }
   ],
   "source": [
    "#alterando nome da ultima coluna\n",
    "titanic_set.rename(columns={\"2urvived\": \"Survived\"})\n",
    "\n",
    "#removendo as colunas que não serão consideradas\n",
    "titanic_set.drop(titanic_set.columns[titanic_set.columns.str.contains('zero')], axis=1, inplace=True)\n",
    "\n",
    " #o id não contribui com informações na classificação\n",
    "titanic_set = titanic_set.drop('Passengerid', 1)\n",
    "titanic_set.head()"
   ]
  },
  {
   "cell_type": "markdown",
   "metadata": {},
   "source": [
    "2. Treine um modelo da classe LogisticRegression do scikit-learn com toda a base;"
   ]
  },
  {
   "cell_type": "code",
   "execution_count": 157,
   "metadata": {},
   "outputs": [
    {
     "data": {
      "text/plain": [
       "Age         0\n",
       "Fare        0\n",
       "Sex         0\n",
       "sibsp       0\n",
       "Parch       0\n",
       "Pclass      0\n",
       "Embarked    0\n",
       "Survived    0\n",
       "dtype: int64"
      ]
     },
     "execution_count": 157,
     "metadata": {},
     "output_type": "execute_result"
    }
   ],
   "source": [
    "#verifiquei que haviam dois registros com valores nulos na coluna Embarked, portant removi\n",
    "titanic_set.dropna(inplace=True)\n",
    "titanic_set.isnull().sum()\n"
   ]
  },
  {
   "cell_type": "code",
   "execution_count": 158,
   "metadata": {},
   "outputs": [
    {
     "data": {
      "text/plain": [
       "(1307, (1307, 7), 1307, (1307,))"
      ]
     },
     "execution_count": 158,
     "metadata": {},
     "output_type": "execute_result"
    }
   ],
   "source": [
    "y = titanic_set.Survived\n",
    "X = titanic_set.drop('Survived', 1)\n",
    "\n",
    "len(X), X.shape, len(y), y.shape"
   ]
  },
  {
   "cell_type": "code",
   "execution_count": 159,
   "metadata": {},
   "outputs": [
    {
     "name": "stdout",
     "output_type": "stream",
     "text": [
      "[[-3.09409817e-02 -5.27987859e-04  1.84500257e+00 -1.81021808e-01\n",
      "  -2.78163223e-02 -7.90441807e-01 -4.78947170e-02]] [0.94420917]\n"
     ]
    }
   ],
   "source": [
    "from sklearn.linear_model import LogisticRegression\n",
    "\n",
    "#precisei aumentar as iterações, pois não estava convergindo com o padrão\n",
    "modelo = LogisticRegression(solver='lbfgs', max_iter=400)\n",
    "modelo.fit(X, y)\n",
    "ypred = modelo.predict(X)\n",
    "\n",
    "print(modelo.coef_, modelo.intercept_)"
   ]
  },
  {
   "cell_type": "markdown",
   "metadata": {},
   "source": [
    "3. Calcule o MSE (erro quadrático médio) para todos os exemplos da usada como treino no modelo treinado;"
   ]
  },
  {
   "cell_type": "code",
   "execution_count": 160,
   "metadata": {},
   "outputs": [
    {
     "data": {
      "text/plain": [
       "'delta = [0.8, 0.4, 0.1]\\n#Variar de 0 a 6 conforme colunas do dataset\\ncarac = 2\\n\\nerros = []\\nintercept = modelo.intercept_[0]\\nws = np.linspace(intercept-delta[carac], intercept+delta[carac], 101)\\n\\nfor w in ws:\\n    modelo.intercept_[0] = w\\n    ypred = modelo.predict(X)\\n    erro = mean_squared_error(y, ypred)\\n    erros.append(erro)\\n\\nmodelo.intercept_[0] = intercept\\nplt.ylabel(\"Erro\")\\nplt.xlabel(f\"W[{carac}]\")\\nplt.plot(ws, erros)\\nplt.show()'"
      ]
     },
     "execution_count": 160,
     "metadata": {},
     "output_type": "execute_result"
    }
   ],
   "source": [
    "#Testando 3 valores de delta para cada classe para obter bons deltas em torno do erro encontrado\n",
    "\n",
    "'''delta = [0.8, 0.4, 0.1]\n",
    "\n",
    "i = 2\n",
    "\n",
    "erros = []\n",
    "intercept = modelo.intercept_[0]\n",
    "ws = np.linspace(intercept-delta[i], intercept+delta[i], 101)\n",
    "\n",
    "for w in ws:\n",
    "    modelo.intercept_[0] = w\n",
    "    ypred = modelo.predict(X)\n",
    "    erro = mean_squared_error(y, ypred)\n",
    "    erros.append(erro)\n",
    "\n",
    "modelo.intercept_[0] = intercept\n",
    "plt.ylabel(\"Erro\")\n",
    "plt.xlabel(f\"W[{i}]\")\n",
    "plt.plot(ws, erros)\n",
    "plt.show()'''"
   ]
  },
  {
   "cell_type": "code",
   "execution_count": 161,
   "metadata": {},
   "outputs": [],
   "source": [
    "#após testar os deltas, os que melhor se aproximam do entorno do erro foram esses 3.\n",
    "delta = [0.8, 0.4, 0.1]\n",
    "\n",
    "def plot(idx):\n",
    "    '''\n",
    "    Plotar o gráfico para cada caracteristica i informada.\n",
    "    '''\n",
    "    erros = []\n",
    "    intercept = modelo.intercept_[0]\n",
    "\n",
    "    #criando um vetor com os valores com range delta no entorno do intercept_ \n",
    "    ws = np.linspace(modelo.intercept_ - delta[idx], modelo.intercept_ + delta[idx], 101)\n",
    "\n",
    "    for w in ws:\n",
    "        modelo.intercept_[0] = w\n",
    "        ypred = modelo.predict(X)\n",
    "        erro = mean_squared_error(y, ypred)\n",
    "        erros.append(erro)\n",
    "\n",
    "    modelo.intercept_[0] = intercept\n",
    "    plt.ylabel(\"Erro\")\n",
    "    plt.xlabel(f\"W[{idx}]\")\n",
    "    plt.plot(ws, erros)\n",
    "    plt.show()"
   ]
  },
  {
   "cell_type": "code",
   "execution_count": 162,
   "metadata": {},
   "outputs": [
    {
     "data": {
      "image/png": "[encoded data removed]",
      "text/plain": [
       "<Figure size 432x288 with 1 Axes>"
      ]
     },
     "metadata": {
      "needs_background": "light"
     },
     "output_type": "display_data"
    },
    {
     "data": {
      "image/png": "[encoded data removed]",
      "text/plain": [
       "<Figure size 432x288 with 1 Axes>"
      ]
     },
     "metadata": {
      "needs_background": "light"
     },
     "output_type": "display_data"
    },
    {
     "data": {
      "image/png": "[encoded data removed]",
      "text/plain": [
       "<Figure size 432x288 with 1 Axes>"
      ]
     },
     "metadata": {
      "needs_background": "light"
     },
     "output_type": "display_data"
    }
   ],
   "source": [
    "# Neste dataset, intercept_ possui apenas um valor. Portanto, tenho 3 deltas para o intercept_. Caso nova base possua mais intercept_, aumento de 3 em 3 os valores estimados em delta\n",
    "# Com for garante funcionamento caso mude a base de dados\n",
    "#for i in range(len(modelo.intercept_)):\n",
    "\n",
    "plot(0)\n",
    "plot(1)\n",
    "plot(2)"
   ]
  },
  {
   "cell_type": "markdown",
   "metadata": {},
   "source": [
    "Como o dataset é classificação binária o intercept_ possui apenas um valor no vetor e geramos apenas 3 deltas e consequentemente, 3 gráficos.\n",
    "\n",
    "Do gráfico 1 ao 3 o valor de delta é cada vez menor, fazendo com que olhemos cada vez o comportamento do erro mais nas proximidades do intercept_. Como suposto no exercício, com a função LogistRegression para classificação binária o comportamento da função não é tão \"bem comportado\" quanto o LinearRegression levando a vários mínimos locais, conforme pode ser visto nos gráficos."
   ]
  }
 ],
 "metadata": {
  "interpreter": {
   "hash": "45beaf1bbaf1f4539db6cc65708e9bc09be995c5454858dbd2322c7e6d854a88"
  },
  "kernelspec": {
   "display_name": "Python 3.8.8 64-bit ('base': conda)",
   "name": "python3"
  },
  "language_info": {
   "codemirror_mode": {
    "name": "ipython",
    "version": 3
   },
   "file_extension": ".py",
   "mimetype": "text/x-python",
   "name": "python",
   "nbconvert_exporter": "python",
   "pygments_lexer": "ipython3",
   "version": "3.8.8"
  },
  "orig_nbformat": 4
 },
 "nbformat": 4,
 "nbformat_minor": 2
}
